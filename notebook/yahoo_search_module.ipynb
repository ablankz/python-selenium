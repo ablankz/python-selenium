{
 "cells": [
  {
   "cell_type": "code",
   "execution_count": 1,
   "metadata": {},
   "outputs": [],
   "source": [
    "from selenium import webdriver\n",
    "from selenium.webdriver.common.by import By"
   ]
  },
  {
   "cell_type": "code",
   "execution_count": 2,
   "metadata": {},
   "outputs": [],
   "source": [
    "# driver作成\n",
    "driver = webdriver.Chrome()\n",
    "# yahooの検索ページにアクセス\n",
    "driver.get(\"https://www.yahoo.co.jp/\")"
   ]
  },
  {
   "cell_type": "code",
   "execution_count": 3,
   "metadata": {},
   "outputs": [],
   "source": [
    "# 検索ボックスのXPath\n",
    "input_x_full_path = \"/html/body/div[1]/div[1]/header/section[1]/div/form/fieldset/span/input\"\n",
    "# 検索ボタンのXPath\n",
    "button_x_full_path = \"/html/body/div[1]/div/header/section[1]/div/form/fieldset/span/button\""
   ]
  },
  {
   "cell_type": "code",
   "execution_count": 4,
   "metadata": {},
   "outputs": [],
   "source": [
    "# 検索ボックスの取得\n",
    "input_box = driver.find_element(by=By.XPATH, value=input_x_full_path)\n",
    "# 検索文字列代入\n",
    "input_box.send_keys(\"Python selemium 使い方\")"
   ]
  },
  {
   "cell_type": "code",
   "execution_count": 5,
   "metadata": {},
   "outputs": [],
   "source": [
    "# 検索ボタンの取得\n",
    "search_button = driver.find_element(by=By.XPATH, value=button_x_full_path)\n",
    "# 検索ボタンのクリック\n",
    "search_button.click()"
   ]
  },
  {
   "cell_type": "code",
   "execution_count": 6,
   "metadata": {},
   "outputs": [],
   "source": [
    "driver.quit()"
   ]
  }
 ],
 "metadata": {
  "kernelspec": {
   "display_name": "virtual",
   "language": "python",
   "name": "python3"
  },
  "language_info": {
   "codemirror_mode": {
    "name": "ipython",
    "version": 3
   },
   "file_extension": ".py",
   "mimetype": "text/x-python",
   "name": "python",
   "nbconvert_exporter": "python",
   "pygments_lexer": "ipython3",
   "version": "3.10.9"
  }
 },
 "nbformat": 4,
 "nbformat_minor": 2
}
